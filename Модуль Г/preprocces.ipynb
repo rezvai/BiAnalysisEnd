{
 "cells": [
  {
   "cell_type": "markdown",
   "metadata": {},
   "source": [
    "# 1. Предобрабатываем данные"
   ]
  },
  {
   "cell_type": "code",
   "execution_count": 32,
   "metadata": {},
   "outputs": [],
   "source": [
    "# Создаем массив для хранения данных\n",
    "jobs_skills = []\n",
    "\n",
    "# Открываем файл для чтения\n",
    "with open('dataModuleB.txt', 'r') as f:\n",
    "    # Читаем каждую строчку файла\n",
    "    for value in f:\n",
    "        # Разбиваем строку на массив строк\n",
    "        items = value.strip()[1:-1].split(', ')\n",
    "        # Добавляем значения в массив\n",
    "        jobs_skills.append(items)"
   ]
  },
  {
   "cell_type": "code",
   "execution_count": 33,
   "metadata": {},
   "outputs": [
    {
     "name": "stdout",
     "output_type": "stream",
     "text": [
      "Навыки 'мышление' и 'товародвижение' встречаются -> 1 раз\n",
      "Навыки 'пополнение' и 'товародвижение' встречаются -> 1 раз\n",
      "Навыки 'амазон' и 'товародвижение' встречаются -> 1 раз\n",
      "Навыки 'англоговорящий' и 'товародвижение' встречаются -> 1 раз\n",
      "Навыки 'квалификация' и 'товародвижение' встречаются -> 1 раз\n",
      "Навыки 'графика' и 'товародвижение' встречаются -> 1 раз\n",
      "Навыки 'рост' и 'товародвижение' встречаются -> 1 раз\n",
      "Навыки 'доработка' и 'товародвижение' встречаются -> 1 раз\n",
      "Навыки 'оплата' и 'товародвижение' встречаются -> 1 раз\n",
      "Навыки 'разбираться' и 'товародвижение' встречаются -> 1 раз\n",
      "Навыки 'сверка' и 'товародвижение' встречаются -> 1 раз\n"
     ]
    }
   ],
   "source": [
    "# Из библиотеки импортиурем модуль для подсчета пар\n",
    "from collections import defaultdict\n",
    "\n",
    "# Создаем словарь для подсчета пар\n",
    "pair_counts = defaultdict(int)\n",
    "\n",
    "# Считаем количество встречаемости пар вместе\n",
    "for job in jobs_skills:\n",
    "    for i in range(len(job)):\n",
    "        for j in range(i+1, len(job)):\n",
    "            # Сортируем для учета перестановки\n",
    "            pair = tuple(sorted([job[i], job[j]]))\n",
    "            # Увеличиваем счетчик пары на 1\n",
    "            pair_counts[pair] += 1\n",
    "\n",
    "# Создаем счетчик\n",
    "count = 0\n",
    "# Выодим пример \n",
    "for pair, count_p in pair_counts.items():\n",
    "    print(f'Навыки {pair[0]} и {pair[1]} встречаются -> {count_p} раз')\n",
    "    if count == 10:\n",
    "        break\n",
    "    count += 1"
   ]
  },
  {
   "cell_type": "markdown",
   "metadata": {},
   "source": [
    "# 2. Записываем данные в Excel"
   ]
  },
  {
   "cell_type": "code",
   "execution_count": 36,
   "metadata": {},
   "outputs": [],
   "source": [
    "# Импортируем билиотеку для работы с данными\n",
    "import pandas as pd\n",
    "# Импортируем библииотеку для работы со строками\n",
    "import re\n",
    "\n",
    "# Создаем массив для ключей\n",
    "keys = []\n",
    "# Создаем массив для значений\n",
    "values = []\n",
    "\n",
    "# Циклом проходимся по всем данным\n",
    "for key, value in pair_counts.items():\n",
    "    # Добавляем данные в массивы\n",
    "    keys.append(key)\n",
    "    values.append(value)\n",
    "\n",
    "# Подгатавливаем данные для DataFrame\n",
    "df_data = {'Столбец 1': [re.sub(r'[\\'\"]', r'', key[0]) for key in keys],\n",
    "           'Столбец 2': [re.sub(r'[\\'\"]', r'', key[1]) for key in keys],\n",
    "           'Столбец 3': values\n",
    "           }\n",
    "\n",
    "# Создаем DataFrame\n",
    "df = pd.DataFrame(df_data)\n",
    "\n",
    "# Сохраняем DataFrame в Excel\n",
    "df.to_excel('data.xlsx', index=False)"
   ]
  },
  {
   "cell_type": "markdown",
   "metadata": {},
   "source": [
    "____________________________________________________________________________________________________________________________________________________________________________________________________________"
   ]
  }
 ],
 "metadata": {
  "kernelspec": {
   "display_name": "nlp",
   "language": "python",
   "name": "python3"
  },
  "language_info": {
   "codemirror_mode": {
    "name": "ipython",
    "version": 3
   },
   "file_extension": ".py",
   "mimetype": "text/x-python",
   "name": "python",
   "nbconvert_exporter": "python",
   "pygments_lexer": "ipython3",
   "version": "3.9.18"
  }
 },
 "nbformat": 4,
 "nbformat_minor": 2
}
